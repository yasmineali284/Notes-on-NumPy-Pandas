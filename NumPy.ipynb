{
  "nbformat": 4,
  "nbformat_minor": 0,
  "metadata": {
    "colab": {
      "name": "NumPy.ipynb",
      "provenance": [],
      "collapsed_sections": [
        "k0tq5O3lPg8k",
        "ef1FgDF-cCK7",
        "0KgBOtxteu7D",
        "FLumXbOUnpvg",
        "Vo4_h0ioVK_B",
        "qF67ylW_hfK_"
      ]
    },
    "kernelspec": {
      "name": "python3",
      "display_name": "Python 3"
    },
    "language_info": {
      "name": "python"
    }
  },
  "cells": [
    {
      "cell_type": "code",
      "execution_count": null,
      "metadata": {
        "id": "5v7ftITXMYgj"
      },
      "outputs": [],
      "source": [
        "import time\n",
        "import numpy as np"
      ]
    },
    {
      "cell_type": "code",
      "source": [
        "x = np.random.random (100000000)"
      ],
      "metadata": {
        "id": "3_JVpr-2Mccq"
      },
      "execution_count": null,
      "outputs": []
    },
    {
      "cell_type": "code",
      "source": [
        "#Case 1\n",
        "start = time.time()\n",
        "sum(x) / len(x)\n",
        "print (time.time() - start)"
      ],
      "metadata": {
        "colab": {
          "base_uri": "https://localhost:8080/"
        },
        "id": "jKWsxbkKMnzV",
        "outputId": "e31b2401-8bab-4031-b80a-21039079a8b4"
      },
      "execution_count": null,
      "outputs": [
        {
          "output_type": "stream",
          "name": "stdout",
          "text": [
            "8.585712194442749\n"
          ]
        }
      ]
    },
    {
      "cell_type": "code",
      "source": [
        "#Case 2\n",
        "start = time.time()\n",
        "np.mean(x)\n",
        "print(time.time() - start)"
      ],
      "metadata": {
        "colab": {
          "base_uri": "https://localhost:8080/"
        },
        "id": "9tYIPw_lMvdk",
        "outputId": "e170520c-5ed3-471c-a96a-a71a12c267cf"
      },
      "execution_count": null,
      "outputs": [
        {
          "output_type": "stream",
          "name": "stdout",
          "text": [
            "0.07424616813659668\n"
          ]
        }
      ]
    },
    {
      "cell_type": "code",
      "source": [
        ""
      ],
      "metadata": {
        "id": "eh_Ynv_kM65R"
      },
      "execution_count": null,
      "outputs": []
    },
    {
      "cell_type": "markdown",
      "source": [
        "#Creating NumPy ndarrays"
      ],
      "metadata": {
        "id": "k0tq5O3lPg8k"
      }
    },
    {
      "cell_type": "markdown",
      "source": [
        "##1.\tUsing regular Python lists"
      ],
      "metadata": {
        "id": "9AYZKf-idtK9"
      }
    },
    {
      "cell_type": "code",
      "source": [
        "import numpy as np\n",
        "\n",
        "#rank 1 array\n",
        "x = np.array([1, 2, 3, 4, 5])\n",
        "#to get array rank\n",
        "x.ndim"
      ],
      "metadata": {
        "colab": {
          "base_uri": "https://localhost:8080/"
        },
        "id": "F7bBfANoPnhz",
        "outputId": "d7ab8892-ba1b-4cd5-a3fc-babe2681cb1b"
      },
      "execution_count": null,
      "outputs": [
        {
          "output_type": "execute_result",
          "data": {
            "text/plain": [
              "1"
            ]
          },
          "metadata": {},
          "execution_count": 22
        }
      ]
    },
    {
      "cell_type": "code",
      "source": [
        "print(x)\n",
        "print(type(x))"
      ],
      "metadata": {
        "colab": {
          "base_uri": "https://localhost:8080/"
        },
        "id": "40mEPiA-Pvkk",
        "outputId": "2522f390-5228-4e65-ab64-1d3bf89578f6"
      },
      "execution_count": null,
      "outputs": [
        {
          "output_type": "stream",
          "name": "stdout",
          "text": [
            "[1 2 3 4 5]\n",
            "<class 'numpy.ndarray'>\n"
          ]
        }
      ]
    },
    {
      "cell_type": "code",
      "source": [
        "#returns datatypes of the elements in the array\n",
        "#shows the memory occupation \n",
        "x.dtype"
      ],
      "metadata": {
        "colab": {
          "base_uri": "https://localhost:8080/"
        },
        "id": "rERt0i8mP8U7",
        "outputId": "d8b25443-ac5f-44e3-cbca-87626245eb6c"
      },
      "execution_count": null,
      "outputs": [
        {
          "output_type": "execute_result",
          "data": {
            "text/plain": [
              "dtype('int64')"
            ]
          },
          "metadata": {},
          "execution_count": 8
        }
      ]
    },
    {
      "cell_type": "code",
      "source": [
        "#.shape returns a tuple reprsenting the array dimension\n",
        "#(rows, columns)\n",
        "x.shape"
      ],
      "metadata": {
        "colab": {
          "base_uri": "https://localhost:8080/"
        },
        "id": "IWD-15JNQFyy",
        "outputId": "11fc90be-7c31-4905-b750-aef27093591e"
      },
      "execution_count": null,
      "outputs": [
        {
          "output_type": "execute_result",
          "data": {
            "text/plain": [
              "(5,)"
            ]
          },
          "metadata": {},
          "execution_count": 9
        }
      ]
    },
    {
      "cell_type": "code",
      "source": [
        "#rank 2 array\n",
        "y = np.array([[1,2,3],[4,5,6],[7,8,9], [10,11,12]])\n",
        "print(y)"
      ],
      "metadata": {
        "colab": {
          "base_uri": "https://localhost:8080/"
        },
        "id": "NM97I8C1Qg5-",
        "outputId": "621d092a-e73e-4bec-dabe-8de0b985af71"
      },
      "execution_count": null,
      "outputs": [
        {
          "output_type": "stream",
          "name": "stdout",
          "text": [
            "[[ 1  2  3]\n",
            " [ 4  5  6]\n",
            " [ 7  8  9]\n",
            " [10 11 12]]\n"
          ]
        }
      ]
    },
    {
      "cell_type": "code",
      "source": [
        "y.shape"
      ],
      "metadata": {
        "colab": {
          "base_uri": "https://localhost:8080/"
        },
        "id": "A-gdQJILQ16Y",
        "outputId": "dad02b10-4f41-4c7b-9783-d8ff0595753d"
      },
      "execution_count": null,
      "outputs": [
        {
          "output_type": "execute_result",
          "data": {
            "text/plain": [
              "(4, 3)"
            ]
          },
          "metadata": {},
          "execution_count": 11
        }
      ]
    },
    {
      "cell_type": "code",
      "source": [
        "#.size gives total number of elements of the array\n",
        "y.size"
      ],
      "metadata": {
        "colab": {
          "base_uri": "https://localhost:8080/"
        },
        "id": "JgVzTsEfQ5XL",
        "outputId": "df528e07-9be4-4d9d-f47a-d4e71afb5e3c"
      },
      "execution_count": null,
      "outputs": [
        {
          "output_type": "execute_result",
          "data": {
            "text/plain": [
              "12"
            ]
          },
          "metadata": {},
          "execution_count": 12
        }
      ]
    },
    {
      "cell_type": "code",
      "source": [
        "x = np.array(['Hello', 'World'])\n",
        "print (x)"
      ],
      "metadata": {
        "colab": {
          "base_uri": "https://localhost:8080/"
        },
        "id": "8_7ncI8aRHvA",
        "outputId": "dccfadcc-03c8-4d97-9c0c-0da476b49af1"
      },
      "execution_count": null,
      "outputs": [
        {
          "output_type": "stream",
          "name": "stdout",
          "text": [
            "['Hello' 'World']\n"
          ]
        }
      ]
    },
    {
      "cell_type": "code",
      "source": [
        "#U5 stands for unicode strings of 5 characters\n",
        "print('shape', x.shape)\n",
        "print('type', type(x))\n",
        "print('dtype', x.dtype)"
      ],
      "metadata": {
        "colab": {
          "base_uri": "https://localhost:8080/"
        },
        "id": "BzjU_HgNRkNX",
        "outputId": "53583cca-a62f-49a6-a0f0-762a89f3bfd2"
      },
      "execution_count": null,
      "outputs": [
        {
          "output_type": "stream",
          "name": "stdout",
          "text": [
            "shape (2,)\n",
            "type <class 'numpy.ndarray'>\n",
            "dtype <U5\n"
          ]
        }
      ]
    },
    {
      "cell_type": "code",
      "source": [
        "#Upcasting\n",
        "#Array data must be treated as the same datatype and thus here, unicode\n",
        "x = np.array([1, 2, 'World'])\n",
        "print(x)\n",
        "print('shape', x.shape)\n",
        "print('type', type(x))\n",
        "print('dtype', x.dtype)"
      ],
      "metadata": {
        "colab": {
          "base_uri": "https://localhost:8080/"
        },
        "id": "_e9BcKVZRxui",
        "outputId": "bfb0e37f-41c8-4a18-8b09-f0871add39dd"
      },
      "execution_count": null,
      "outputs": [
        {
          "output_type": "stream",
          "name": "stdout",
          "text": [
            "['1' '2' 'World']\n",
            "shape (3,)\n",
            "type <class 'numpy.ndarray'>\n",
            "dtype <U21\n"
          ]
        }
      ]
    },
    {
      "cell_type": "code",
      "source": [
        "x = np.array([1, 2.5, 4])\n",
        "print(x, x.dtype)"
      ],
      "metadata": {
        "colab": {
          "base_uri": "https://localhost:8080/"
        },
        "id": "0gK337kCSInw",
        "outputId": "dcae139b-658d-4482-a3a2-81bd00e90a38"
      },
      "execution_count": null,
      "outputs": [
        {
          "output_type": "stream",
          "name": "stdout",
          "text": [
            "[1.  2.5 4. ] float64\n"
          ]
        }
      ]
    },
    {
      "cell_type": "code",
      "source": [
        "x = np.array([1.5, 2.2, 3.7], dtype=np.int64)\n",
        "print(x)\n",
        "print('dtype', x.dtype)"
      ],
      "metadata": {
        "colab": {
          "base_uri": "https://localhost:8080/"
        },
        "id": "P6fHyLfoSYhE",
        "outputId": "79deb7d1-2edd-4506-c046-221745a2b10f"
      },
      "execution_count": null,
      "outputs": [
        {
          "output_type": "stream",
          "name": "stdout",
          "text": [
            "[1 2 3]\n",
            "dtype int64\n"
          ]
        }
      ]
    },
    {
      "cell_type": "code",
      "source": [
        "#.save save the array into a file with the give name\n",
        "x = np.array([1, 2, 3, 4, 5])\n",
        "np.save('my_array', x)"
      ],
      "metadata": {
        "id": "FAG4aGSOS228"
      },
      "execution_count": null,
      "outputs": []
    },
    {
      "cell_type": "code",
      "source": [
        "#.load loads the file\n",
        "y = np.load('my_array.npy')\n",
        "print(y)"
      ],
      "metadata": {
        "colab": {
          "base_uri": "https://localhost:8080/"
        },
        "id": "N75hSN_jTN6R",
        "outputId": "17203fcd-8f61-4d47-bc2d-fa3df5df11bc"
      },
      "execution_count": null,
      "outputs": [
        {
          "output_type": "stream",
          "name": "stdout",
          "text": [
            "[1 2 3 4 5]\n"
          ]
        }
      ]
    },
    {
      "cell_type": "markdown",
      "source": [
        "##Practice"
      ],
      "metadata": {
        "id": "ef1FgDF-cCK7"
      }
    },
    {
      "cell_type": "code",
      "source": [
        "import numpy as np\n",
        "\n",
        "# create numpy array of letters a-j\n",
        "letter_array = np.array(['a', 'b', 'c', 'd', 'e', 'f', 'g', 'h', 'i', 'j'])\n",
        "print(\"Letter Array: \", letter_array)\n",
        "\n",
        "# get dtype of array\n",
        "print('dtype:', letter_array.dtype)\n",
        "\n",
        "\n",
        "# get shape of array\n",
        "print('shape:', letter_array.shape)"
      ],
      "metadata": {
        "colab": {
          "base_uri": "https://localhost:8080/"
        },
        "id": "NwvZh4cOcAhw",
        "outputId": "0391ad0e-89cd-4476-d89f-5b54d851ffcc"
      },
      "execution_count": null,
      "outputs": [
        {
          "output_type": "stream",
          "name": "stdout",
          "text": [
            "Letter Array:  ['a' 'b' 'c' 'd' 'e' 'f' 'g' 'h' 'i' 'j']\n",
            "dtype: <U1\n",
            "shape: (10,)\n"
          ]
        }
      ]
    },
    {
      "cell_type": "markdown",
      "source": [
        "##2.\tUsing built-in NumPy functions"
      ],
      "metadata": {
        "id": "0KgBOtxteu7D"
      }
    },
    {
      "cell_type": "code",
      "source": [
        "#.zeros create array of zeros with datatype float63\n",
        "x = np.zeros((3, 4))\n",
        "print(x)"
      ],
      "metadata": {
        "colab": {
          "base_uri": "https://localhost:8080/"
        },
        "id": "-SConlQNToqn",
        "outputId": "02abe74f-1297-4393-f2ac-78c6b49cc010"
      },
      "execution_count": null,
      "outputs": [
        {
          "output_type": "stream",
          "name": "stdout",
          "text": [
            "[[0. 0. 0. 0.]\n",
            " [0. 0. 0. 0.]\n",
            " [0. 0. 0. 0.]]\n"
          ]
        }
      ]
    },
    {
      "cell_type": "code",
      "source": [
        "print('dtype', x.dtype)"
      ],
      "metadata": {
        "colab": {
          "base_uri": "https://localhost:8080/"
        },
        "id": "CNC8X_6OrtD5",
        "outputId": "a97b4e1b-efb4-4ea1-b77f-d5a93d31af99"
      },
      "execution_count": null,
      "outputs": [
        {
          "output_type": "stream",
          "name": "stdout",
          "text": [
            "dtype float64\n"
          ]
        }
      ]
    },
    {
      "cell_type": "code",
      "source": [
        "x = np.zeros((3, 4), dtype = int)\n",
        "print(x)"
      ],
      "metadata": {
        "colab": {
          "base_uri": "https://localhost:8080/"
        },
        "id": "HkvQyNvWr5fk",
        "outputId": "0ecf90a3-b1ba-420f-b7d5-6b67069e1e25"
      },
      "execution_count": null,
      "outputs": [
        {
          "output_type": "stream",
          "name": "stdout",
          "text": [
            "[[0 0 0 0]\n",
            " [0 0 0 0]\n",
            " [0 0 0 0]]\n"
          ]
        }
      ]
    },
    {
      "cell_type": "code",
      "source": [
        "print('dtype', x.dtype)"
      ],
      "metadata": {
        "colab": {
          "base_uri": "https://localhost:8080/"
        },
        "id": "WBu2tOitsBQm",
        "outputId": "da5a1f16-2b83-4be7-a72b-f398da46231e"
      },
      "execution_count": null,
      "outputs": [
        {
          "output_type": "stream",
          "name": "stdout",
          "text": [
            "dtype int64\n"
          ]
        }
      ]
    },
    {
      "cell_type": "code",
      "source": [
        "x = np.ones((4, 5))\n",
        "print(x)"
      ],
      "metadata": {
        "colab": {
          "base_uri": "https://localhost:8080/"
        },
        "id": "KZftwFresDNX",
        "outputId": "7fcda8e3-aca7-46ea-f35f-1804b4009b57"
      },
      "execution_count": null,
      "outputs": [
        {
          "output_type": "stream",
          "name": "stdout",
          "text": [
            "[[1. 1. 1. 1. 1.]\n",
            " [1. 1. 1. 1. 1.]\n",
            " [1. 1. 1. 1. 1.]\n",
            " [1. 1. 1. 1. 1.]]\n"
          ]
        }
      ]
    },
    {
      "cell_type": "code",
      "source": [
        "#.full((,), num) autofill the array with the given value\n",
        "x = np.full((4, 3), 5)\n",
        "print (x)"
      ],
      "metadata": {
        "colab": {
          "base_uri": "https://localhost:8080/"
        },
        "id": "aD6tNRCQsHDM",
        "outputId": "381a5e9b-73dd-498e-c804-b7c5096b3c05"
      },
      "execution_count": null,
      "outputs": [
        {
          "output_type": "stream",
          "name": "stdout",
          "text": [
            "[[5 5 5]\n",
            " [5 5 5]\n",
            " [5 5 5]\n",
            " [5 5 5]]\n"
          ]
        }
      ]
    },
    {
      "cell_type": "code",
      "source": [
        "#Identity Matrix\n",
        "x = np.eye(5)\n",
        "print(x)"
      ],
      "metadata": {
        "colab": {
          "base_uri": "https://localhost:8080/"
        },
        "id": "y6kNUb7msVB4",
        "outputId": "5485d0dd-e2eb-4276-c2e2-458f393e4798"
      },
      "execution_count": null,
      "outputs": [
        {
          "output_type": "stream",
          "name": "stdout",
          "text": [
            "[[1. 0. 0. 0. 0.]\n",
            " [0. 1. 0. 0. 0.]\n",
            " [0. 0. 1. 0. 0.]\n",
            " [0. 0. 0. 1. 0.]\n",
            " [0. 0. 0. 0. 1.]]\n"
          ]
        }
      ]
    },
    {
      "cell_type": "code",
      "source": [
        "#Diagonal Matrix\n",
        "x = np.diag([10, 20, 30, 50])\n",
        "print(x)"
      ],
      "metadata": {
        "colab": {
          "base_uri": "https://localhost:8080/"
        },
        "id": "4PIPq01EsnL-",
        "outputId": "446f1fd8-6e9b-4737-8c28-6428a42b9c51"
      },
      "execution_count": null,
      "outputs": [
        {
          "output_type": "stream",
          "name": "stdout",
          "text": [
            "[[10  0  0  0]\n",
            " [ 0 20  0  0]\n",
            " [ 0  0 30  0]\n",
            " [ 0  0  0 50]]\n"
          ]
        }
      ]
    },
    {
      "cell_type": "code",
      "source": [
        "#.arange(start, end, step) creates 1D array of evenly spaced values \n",
        "#within a given interval\n",
        "#only integers value\n",
        "x = np.arange(10)\n",
        "print(x)\n",
        "y = np.arange(4, 10)\n",
        "print(y)\n",
        "z = np.arange(1, 14, 3)\n",
        "print(z)"
      ],
      "metadata": {
        "colab": {
          "base_uri": "https://localhost:8080/"
        },
        "id": "sOPm9AH_s1xv",
        "outputId": "0862d69e-65d4-4830-c91a-5e9333797248"
      },
      "execution_count": null,
      "outputs": [
        {
          "output_type": "stream",
          "name": "stdout",
          "text": [
            "[0 1 2 3 4 5 6 7 8 9]\n",
            "[4 5 6 7 8 9]\n",
            "[ 1  4  7 10 13]\n"
          ]
        }
      ]
    },
    {
      "cell_type": "code",
      "source": [
        "#.alinspace(start, end, n) non-integer values\n",
        "#must take at least 2 values\n",
        "#n default is 50\n",
        "x = np.linspace(0, 25, 10)\n",
        "print(x)\n",
        "y = np.linspace(0, 25, 10, endpoint=False)\n",
        "print(y)"
      ],
      "metadata": {
        "colab": {
          "base_uri": "https://localhost:8080/"
        },
        "id": "5Ama9_livDaY",
        "outputId": "01f6c652-e8ed-4204-ef07-28bdf36f6e3a"
      },
      "execution_count": null,
      "outputs": [
        {
          "output_type": "stream",
          "name": "stdout",
          "text": [
            "[ 0.          2.77777778  5.55555556  8.33333333 11.11111111 13.88888889\n",
            " 16.66666667 19.44444444 22.22222222 25.        ]\n",
            "[ 0.   2.5  5.   7.5 10.  12.5 15.  17.5 20.  22.5]\n"
          ]
        }
      ]
    },
    {
      "cell_type": "code",
      "source": [
        "#.reshape changes the rank of the array\n",
        "#checks if the number of values is suitable for the give new shape\n",
        "#else, it will release an error\n",
        "x = np.arange(20)\n",
        "print(x)\n",
        "x = np.reshape(x, (4,5))\n",
        "print (x)"
      ],
      "metadata": {
        "colab": {
          "base_uri": "https://localhost:8080/"
        },
        "id": "rKMQNOqBvszL",
        "outputId": "4ae24059-bde1-4cb6-c39b-514ccfb638a5"
      },
      "execution_count": null,
      "outputs": [
        {
          "output_type": "stream",
          "name": "stdout",
          "text": [
            "[ 0  1  2  3  4  5  6  7  8  9 10 11 12 13 14 15 16 17 18 19]\n",
            "[[ 0  1  2  3  4]\n",
            " [ 5  6  7  8  9]\n",
            " [10 11 12 13 14]\n",
            " [15 16 17 18 19]]\n"
          ]
        }
      ]
    },
    {
      "cell_type": "code",
      "source": [
        "x = np.reshape(x, (10,2))\n",
        "print(x)"
      ],
      "metadata": {
        "colab": {
          "base_uri": "https://localhost:8080/"
        },
        "id": "qvOsNxBPiicl",
        "outputId": "aa195b23-21d3-4526-975a-5589747f881d"
      },
      "execution_count": null,
      "outputs": [
        {
          "output_type": "stream",
          "name": "stdout",
          "text": [
            "[[ 0  1]\n",
            " [ 2  3]\n",
            " [ 4  5]\n",
            " [ 6  7]\n",
            " [ 8  9]\n",
            " [10 11]\n",
            " [12 13]\n",
            " [14 15]\n",
            " [16 17]\n",
            " [18 19]]\n"
          ]
        }
      ]
    },
    {
      "cell_type": "code",
      "source": [
        "y = np.arange(20).reshape((10, 2))\n",
        "print (y)"
      ],
      "metadata": {
        "colab": {
          "base_uri": "https://localhost:8080/"
        },
        "id": "chSmBwu1ipQz",
        "outputId": "2d302815-3139-4377-ccbd-77ef256a8df4"
      },
      "execution_count": null,
      "outputs": [
        {
          "output_type": "stream",
          "name": "stdout",
          "text": [
            "[[ 0  1]\n",
            " [ 2  3]\n",
            " [ 4  5]\n",
            " [ 6  7]\n",
            " [ 8  9]\n",
            " [10 11]\n",
            " [12 13]\n",
            " [14 15]\n",
            " [16 17]\n",
            " [18 19]]\n"
          ]
        }
      ]
    },
    {
      "cell_type": "code",
      "source": [
        "x = np.linspace(0, 50, 10, endpoint=False).reshape(5, 2)\n",
        "print(x)"
      ],
      "metadata": {
        "colab": {
          "base_uri": "https://localhost:8080/"
        },
        "id": "ucw0OAqojGHx",
        "outputId": "5f499c2d-e147-4a3a-92be-a3257ad59354"
      },
      "execution_count": null,
      "outputs": [
        {
          "output_type": "stream",
          "name": "stdout",
          "text": [
            "[[ 0.  5.]\n",
            " [10. 15.]\n",
            " [20. 25.]\n",
            " [30. 35.]\n",
            " [40. 45.]]\n"
          ]
        }
      ]
    },
    {
      "cell_type": "code",
      "source": [
        "x = np.random.random((3, 3))\n",
        "print(x)"
      ],
      "metadata": {
        "colab": {
          "base_uri": "https://localhost:8080/"
        },
        "id": "ecivbZSQjVfC",
        "outputId": "d8400b2b-836b-4db6-825d-c7314596c273"
      },
      "execution_count": null,
      "outputs": [
        {
          "output_type": "stream",
          "name": "stdout",
          "text": [
            "[[0.2716747  0.73965268 0.49517487]\n",
            " [0.58364526 0.59805429 0.85919013]\n",
            " [0.7020565  0.01117212 0.0156169 ]]\n"
          ]
        }
      ]
    },
    {
      "cell_type": "code",
      "source": [
        "#(upper_bound, lower_bound, shape)\n",
        "x = np.random.randint(4, 15, (3, 2))\n",
        "print(x)"
      ],
      "metadata": {
        "colab": {
          "base_uri": "https://localhost:8080/"
        },
        "id": "eOpunPYIjphU",
        "outputId": "cb184a01-b8af-4807-9233-ae3e7d2e4d43"
      },
      "execution_count": null,
      "outputs": [
        {
          "output_type": "stream",
          "name": "stdout",
          "text": [
            "[[6 7]\n",
            " [8 8]\n",
            " [5 8]]\n"
          ]
        }
      ]
    },
    {
      "cell_type": "code",
      "source": [
        "#random values from normal distribution \n",
        "#(mean, standard deviation, size)\n",
        "x = np.random.normal(0, 0.1, size=(1000, 1000))\n",
        "print(x)"
      ],
      "metadata": {
        "colab": {
          "base_uri": "https://localhost:8080/"
        },
        "id": "TXeUJZ1-j2W8",
        "outputId": "e778a00d-5eec-4c23-972e-32d10b5ce624"
      },
      "execution_count": null,
      "outputs": [
        {
          "output_type": "stream",
          "name": "stdout",
          "text": [
            "[[ 0.10957844 -0.04786357  0.1493487  ... -0.1546417   0.03773197\n",
            "   0.08371709]\n",
            " [ 0.05121261  0.0062681   0.02641147 ...  0.05112616  0.03315038\n",
            "  -0.02527392]\n",
            " [-0.09390247  0.03948246 -0.00544424 ... -0.01492499 -0.13226261\n",
            "   0.1003579 ]\n",
            " ...\n",
            " [ 0.01202138 -0.08908256 -0.06413172 ... -0.31107236 -0.00212517\n",
            "  -0.02456408]\n",
            " [ 0.09269404  0.0288718  -0.196394   ...  0.09403025 -0.03711007\n",
            "  -0.02444978]\n",
            " [ 0.08924099 -0.11168459 -0.0157433  ...  0.10837867  0.04540839\n",
            "  -0.00259068]]\n"
          ]
        }
      ]
    },
    {
      "cell_type": "code",
      "source": [
        "print('mean', x.mean())\n",
        "print('std', x.std())\n",
        "print('max', x.max())\n",
        "print('min', x.min())\n",
        "print('# positive', (x > 0).sum())\n",
        "print('# negative', (x < 0).sum())"
      ],
      "metadata": {
        "colab": {
          "base_uri": "https://localhost:8080/"
        },
        "id": "-8S9Y7iYkdEg",
        "outputId": "a4461bbe-e5fc-48e4-e597-1fa5dfa180f1"
      },
      "execution_count": null,
      "outputs": [
        {
          "output_type": "stream",
          "name": "stdout",
          "text": [
            "mean 0.000166194349507901\n",
            "std 0.10007517028614624\n",
            "max 0.44404978105374177\n",
            "min -0.4583095235543712\n",
            "# positive 500799\n",
            "# negative 499201\n"
          ]
        }
      ]
    },
    {
      "cell_type": "markdown",
      "source": [
        "##Practice"
      ],
      "metadata": {
        "id": "9MwTLYKGmLV1"
      }
    },
    {
      "cell_type": "code",
      "source": [
        "import numpy as np\n",
        "\n",
        "# Using the Built-in functions you learned about on the\n",
        "# previous page, create a 4 x 4 ndarray that only\n",
        "# contains consecutive even numbers from 2 to 32 (inclusive)\n",
        "\n",
        "X = np.arange(2, 34, 2).reshape(4, 4)\n",
        "print(X)\n",
        "\n",
        "Y = np.linspace(2, 34, 16).reshape(4, 4)\n",
        "print(Y)"
      ],
      "metadata": {
        "colab": {
          "base_uri": "https://localhost:8080/"
        },
        "id": "82l8zFYglIj9",
        "outputId": "a7c909c4-10a1-4a69-b734-56d03b3f48f4"
      },
      "execution_count": null,
      "outputs": [
        {
          "output_type": "stream",
          "name": "stdout",
          "text": [
            "[[ 2  4  6  8]\n",
            " [10 12 14 16]\n",
            " [18 20 22 24]\n",
            " [26 28 30 32]]\n",
            "[[ 2.          4.13333333  6.26666667  8.4       ]\n",
            " [10.53333333 12.66666667 14.8        16.93333333]\n",
            " [19.06666667 21.2        23.33333333 25.46666667]\n",
            " [27.6        29.73333333 31.86666667 34.        ]]\n"
          ]
        }
      ]
    },
    {
      "cell_type": "code",
      "source": [
        ""
      ],
      "metadata": {
        "id": "mVGIsSP5mcKN"
      },
      "execution_count": null,
      "outputs": []
    },
    {
      "cell_type": "markdown",
      "source": [
        "#Accessing, Deleting, and Inserting Elements Into ndarrays"
      ],
      "metadata": {
        "id": "FLumXbOUnpvg"
      }
    },
    {
      "cell_type": "code",
      "source": [
        "import numpy as np"
      ],
      "metadata": {
        "id": "ZSj-2Jw0nt6j"
      },
      "execution_count": 2,
      "outputs": []
    },
    {
      "cell_type": "code",
      "source": [
        "#ndarrays are mutable, and can be sliced\n",
        "x = np.array([1, 2, 3, 4, 5])\n",
        "print(x)"
      ],
      "metadata": {
        "id": "11xKRwp9p77Y",
        "colab": {
          "base_uri": "https://localhost:8080/"
        },
        "outputId": "93356611-9af3-42fb-8fc8-09b69765da39"
      },
      "execution_count": 3,
      "outputs": [
        {
          "output_type": "stream",
          "name": "stdout",
          "text": [
            "[1 2 3 4 5]\n"
          ]
        }
      ]
    },
    {
      "cell_type": "code",
      "source": [
        "print('1st element:', x[0])\n",
        "print('2nd element:', x[1])\n",
        "print('3rd element:', x[2])"
      ],
      "metadata": {
        "colab": {
          "base_uri": "https://localhost:8080/"
        },
        "id": "6li2S_0vNw-r",
        "outputId": "26aba28a-3e7b-4a1a-f193-1b0591b1102f"
      },
      "execution_count": 5,
      "outputs": [
        {
          "output_type": "stream",
          "name": "stdout",
          "text": [
            "1st element: 1\n",
            "2nd element: 2\n",
            "3rd element: 3\n"
          ]
        }
      ]
    },
    {
      "cell_type": "code",
      "source": [
        "print('1st element:', x[-5])\n",
        "print('1st element:', x[-4])\n",
        "print('5th element:', x[-1])"
      ],
      "metadata": {
        "colab": {
          "base_uri": "https://localhost:8080/"
        },
        "id": "69EFd0YKOGMh",
        "outputId": "9948c744-0151-443a-8628-ba838e1beaf3"
      },
      "execution_count": 6,
      "outputs": [
        {
          "output_type": "stream",
          "name": "stdout",
          "text": [
            "1st element: 1\n",
            "1st element: 2\n",
            "5th element: 5\n"
          ]
        }
      ]
    },
    {
      "cell_type": "code",
      "source": [
        "x[3] = 20\n",
        "print(x)"
      ],
      "metadata": {
        "colab": {
          "base_uri": "https://localhost:8080/"
        },
        "id": "m0fDBZBdOWzB",
        "outputId": "acc90ee9-ae92-4724-ccfc-754920a35131"
      },
      "execution_count": 7,
      "outputs": [
        {
          "output_type": "stream",
          "name": "stdout",
          "text": [
            "[ 1  2  3 20  5]\n"
          ]
        }
      ]
    },
    {
      "cell_type": "code",
      "source": [
        "x = np.arange(1, 10).reshape(3, 3)\n",
        "print(x)"
      ],
      "metadata": {
        "colab": {
          "base_uri": "https://localhost:8080/"
        },
        "id": "TuokxKGUOeGv",
        "outputId": "4b363761-2117-44b5-bcf7-0fb804ed8643"
      },
      "execution_count": 9,
      "outputs": [
        {
          "output_type": "stream",
          "name": "stdout",
          "text": [
            "[[1 2 3]\n",
            " [4 5 6]\n",
            " [7 8 9]]\n"
          ]
        }
      ]
    },
    {
      "cell_type": "code",
      "source": [
        "print('Element at (0, 0):', x[0, 0])\n",
        "print('Element at (0, 1):', x[0, 1])\n",
        "print('Element at (2, 2):', x[2, 2])"
      ],
      "metadata": {
        "colab": {
          "base_uri": "https://localhost:8080/"
        },
        "id": "QETH1iazOkn7",
        "outputId": "f0c0704e-37ab-4cfc-c1c5-c16685cc1cb0"
      },
      "execution_count": 10,
      "outputs": [
        {
          "output_type": "stream",
          "name": "stdout",
          "text": [
            "Element at (0, 0): 1\n",
            "Element at (0, 1): 2\n",
            "Element at (2, 2): 9\n"
          ]
        }
      ]
    },
    {
      "cell_type": "code",
      "source": [
        "x[0, 0] = 20\n",
        "print(x)"
      ],
      "metadata": {
        "colab": {
          "base_uri": "https://localhost:8080/"
        },
        "id": "mlWDmmUBOynJ",
        "outputId": "ec4ff1e9-3b08-458f-ba59-4810f2fbbddc"
      },
      "execution_count": 11,
      "outputs": [
        {
          "output_type": "stream",
          "name": "stdout",
          "text": [
            "[[20  2  3]\n",
            " [ 4  5  6]\n",
            " [ 7  8  9]]\n"
          ]
        }
      ]
    },
    {
      "cell_type": "code",
      "source": [
        "#Delete from rank 1 array\n",
        "x = np.array([1, 2 ,3 , 4, 5])\n",
        "print(x)\n",
        "\n",
        "#(array, [indices])\n",
        "x = np.delete(x, [0, 4])\n",
        "print(x)"
      ],
      "metadata": {
        "colab": {
          "base_uri": "https://localhost:8080/"
        },
        "id": "6eNG4KmTO9i5",
        "outputId": "9c25ad38-d77e-42e6-b4fa-8da49f04b8f6"
      },
      "execution_count": 15,
      "outputs": [
        {
          "output_type": "stream",
          "name": "stdout",
          "text": [
            "[1 2 3 4 5]\n",
            "[2 3 4]\n"
          ]
        }
      ]
    },
    {
      "cell_type": "code",
      "source": [
        "#Delete from rank 2 array\n",
        "#axis=0 selects rows, axis= selects column\n",
        "y = np.arange(1, 10).reshape(3, 3)\n",
        "print(y)\n",
        "\n",
        "w = np.delete(y, 0, axis=0)\n",
        "print('\\n', w)\n",
        "\n",
        "v = np.delete(y, [0, 2], axis=1)\n",
        "print('\\n', v)"
      ],
      "metadata": {
        "colab": {
          "base_uri": "https://localhost:8080/"
        },
        "id": "Ici1DTL_PLdT",
        "outputId": "db92155c-1ef6-4c8e-8e7c-87bf67ec8024"
      },
      "execution_count": 16,
      "outputs": [
        {
          "output_type": "stream",
          "name": "stdout",
          "text": [
            "[[1 2 3]\n",
            " [4 5 6]\n",
            " [7 8 9]]\n",
            "\n",
            " [[4 5 6]\n",
            " [7 8 9]]\n",
            "\n",
            " [[2]\n",
            " [5]\n",
            " [8]]\n"
          ]
        }
      ]
    },
    {
      "cell_type": "code",
      "source": [
        "#Adding values using .append(array, [indices], axis) function\n",
        "#Append in rank 1 array\n",
        "x = np.array([1, 2 ,3 , 4, 5])\n",
        "print(x)\n",
        "\n",
        "x = np.append(x, 6)\n",
        "print(x)\n",
        "\n",
        "x = np. append (x, [7, 8])\n",
        "print(x)"
      ],
      "metadata": {
        "colab": {
          "base_uri": "https://localhost:8080/"
        },
        "id": "QLx3NjBKQLGd",
        "outputId": "0722785f-8bb0-4edc-eefa-f07b13962bcd"
      },
      "execution_count": 18,
      "outputs": [
        {
          "output_type": "stream",
          "name": "stdout",
          "text": [
            "[1 2 3 4 5]\n",
            "[1 2 3 4 5 6]\n",
            "[1 2 3 4 5 6 7 8]\n"
          ]
        }
      ]
    },
    {
      "cell_type": "code",
      "source": [
        "#Append in rank 2 array\n",
        "y = np.arange(1, 10).reshape(3, 3)\n",
        "print(y)\n",
        "\n",
        "#Append row (axis=0)\n",
        "w = np.append(y, [[10, 11, 12]], axis=0)\n",
        "print('\\n',w)\n",
        "\n",
        "#Append column (axis=1)\n",
        "v = np.append (y, [[10], [11], [12]], axis=1)\n",
        "print('\\n', v)"
      ],
      "metadata": {
        "colab": {
          "base_uri": "https://localhost:8080/"
        },
        "id": "tDMMZ3ONRTkS",
        "outputId": "ac19678b-4839-463b-e699-972021d163f8"
      },
      "execution_count": 22,
      "outputs": [
        {
          "output_type": "stream",
          "name": "stdout",
          "text": [
            "[[1 2 3]\n",
            " [4 5 6]\n",
            " [7 8 9]]\n",
            "\n",
            " [[ 1  2  3]\n",
            " [ 4  5  6]\n",
            " [ 7  8  9]\n",
            " [10 11 12]]\n",
            "\n",
            " [[ 1  2  3 10]\n",
            " [ 4  5  6 11]\n",
            " [ 7  8  9 12]]\n"
          ]
        }
      ]
    },
    {
      "cell_type": "code",
      "source": [
        "#Insert values to arrays in specific place\n",
        "# .insert(array, index, element, axis)\n",
        "#Insert in 1 rank array\n",
        "x = np.array([1, 2, 5, 6, 7])\n",
        "print(x)\n",
        "\n",
        "x = np.insert(x, 2, [3, 4])\n",
        "print('\\n', x)"
      ],
      "metadata": {
        "colab": {
          "base_uri": "https://localhost:8080/"
        },
        "id": "zI6Lk0BYRmyD",
        "outputId": "03b3f3d1-b6c7-4b58-a048-dd0d817fdc81"
      },
      "execution_count": 24,
      "outputs": [
        {
          "output_type": "stream",
          "name": "stdout",
          "text": [
            "[1 2 5 6 7]\n",
            "\n",
            " [1 2 3 4 5 6 7]\n"
          ]
        }
      ]
    },
    {
      "cell_type": "code",
      "source": [
        "#Insert in 2 rank array\n",
        "y = np.array([[1, 2, 3], [7, 8, 9]])\n",
        "print(y)\n",
        "\n",
        "w = np.insert(y, 1, [4, 5, 6], axis=0)\n",
        "print('\\n', w)\n",
        "\n",
        "v = np.insert(y, 1, 5, axis=1)\n",
        "print('\\n', v)"
      ],
      "metadata": {
        "colab": {
          "base_uri": "https://localhost:8080/"
        },
        "id": "ySzrMbx8SfH9",
        "outputId": "a21f0b21-553d-4b14-b0b1-c0583c648fbc"
      },
      "execution_count": 26,
      "outputs": [
        {
          "output_type": "stream",
          "name": "stdout",
          "text": [
            "[[1 2 3]\n",
            " [7 8 9]]\n",
            "\n",
            " [[1 2 3]\n",
            " [4 5 6]\n",
            " [7 8 9]]\n",
            "\n",
            " [[1 5 2 3]\n",
            " [7 5 8 9]]\n"
          ]
        }
      ]
    },
    {
      "cell_type": "code",
      "source": [
        "#NumPy allows stacking arrays on top of each other or side by side\n",
        "#using .vstack() for vertical stacking or .hstack() for horizontal stacking\n",
        "#The shapes of the arrays must match for stacking to happen\n",
        "\n",
        "x = np.array([1, 2])\n",
        "print(x)\n",
        "\n",
        "y = np.array([[3, 4], [5, 6]])\n",
        "print('\\n', y)\n",
        "\n",
        "v = np.vstack((x, y))\n",
        "print('\\n', v)\n",
        "\n",
        "h = np.hstack((y, x.reshape(2, 1)))\n",
        "print('\\n', h)"
      ],
      "metadata": {
        "colab": {
          "base_uri": "https://localhost:8080/"
        },
        "id": "IppA6XFlTWZ3",
        "outputId": "feca0b95-eb20-44f6-bed4-96b5d48bbb59"
      },
      "execution_count": 31,
      "outputs": [
        {
          "output_type": "stream",
          "name": "stdout",
          "text": [
            "[1 2]\n",
            "\n",
            " [[3 4]\n",
            " [5 6]]\n",
            "\n",
            " [[1 2]\n",
            " [3 4]\n",
            " [5 6]]\n",
            "\n",
            " [[3 4 1]\n",
            " [5 6 2]]\n"
          ]
        }
      ]
    },
    {
      "cell_type": "code",
      "source": [
        ""
      ],
      "metadata": {
        "id": "DgB029z5UkOY"
      },
      "execution_count": 28,
      "outputs": []
    },
    {
      "cell_type": "markdown",
      "source": [
        "#Slicing ndarrays"
      ],
      "metadata": {
        "id": "Vo4_h0ioVK_B"
      }
    },
    {
      "cell_type": "code",
      "source": [
        "import numpy as np"
      ],
      "metadata": {
        "id": "h0NiwvggVS5W"
      },
      "execution_count": 32,
      "outputs": []
    },
    {
      "cell_type": "code",
      "source": [
        "#helps in accessing subsets of arrays\n",
        "#ndarray[start:end]\n",
        "#ndarray[start:]\n",
        "#ndarray[:end]\n",
        "\n",
        "X = np.arange(1, 21).reshape(4, 5)\n",
        "print(X)"
      ],
      "metadata": {
        "colab": {
          "base_uri": "https://localhost:8080/"
        },
        "id": "O3yfVCyTZnJy",
        "outputId": "ad00d354-aeed-4af2-8bb4-95bcdf1d8e2b"
      },
      "execution_count": 36,
      "outputs": [
        {
          "output_type": "stream",
          "name": "stdout",
          "text": [
            "[[ 1  2  3  4  5]\n",
            " [ 6  7  8  9 10]\n",
            " [11 12 13 14 15]\n",
            " [16 17 18 19 20]]\n"
          ]
        }
      ]
    },
    {
      "cell_type": "code",
      "source": [
        "#[rows, columns]\n",
        "x = X[1:4, 2:5]\n",
        "print(x)"
      ],
      "metadata": {
        "colab": {
          "base_uri": "https://localhost:8080/"
        },
        "id": "hd753RaFaH3K",
        "outputId": "13379940-e0d7-4917-8707-64a4b0b1c27f"
      },
      "execution_count": 37,
      "outputs": [
        {
          "output_type": "stream",
          "name": "stdout",
          "text": [
            "[[ 8  9 10]\n",
            " [13 14 15]\n",
            " [18 19 20]]\n"
          ]
        }
      ]
    },
    {
      "cell_type": "code",
      "source": [
        "x = X[1:, 2:]\n",
        "print(x)"
      ],
      "metadata": {
        "colab": {
          "base_uri": "https://localhost:8080/"
        },
        "id": "x5hrNkUSaYwL",
        "outputId": "c13278ee-537b-4885-aa3a-b2c860d85c75"
      },
      "execution_count": 38,
      "outputs": [
        {
          "output_type": "stream",
          "name": "stdout",
          "text": [
            "[[ 8  9 10]\n",
            " [13 14 15]\n",
            " [18 19 20]]\n"
          ]
        }
      ]
    },
    {
      "cell_type": "code",
      "source": [
        "x = X[:3, 2:]\n",
        "print(x)"
      ],
      "metadata": {
        "colab": {
          "base_uri": "https://localhost:8080/"
        },
        "id": "2Cf4yYJ-awUr",
        "outputId": "75c90ba4-6652-41c3-a7e6-fed0c352018e"
      },
      "execution_count": 39,
      "outputs": [
        {
          "output_type": "stream",
          "name": "stdout",
          "text": [
            "[[ 3  4  5]\n",
            " [ 8  9 10]\n",
            " [13 14 15]]\n"
          ]
        }
      ]
    },
    {
      "cell_type": "code",
      "source": [
        "x = X[:, 2]\n",
        "print(x)"
      ],
      "metadata": {
        "colab": {
          "base_uri": "https://localhost:8080/"
        },
        "id": "yzD3SzhFa3tu",
        "outputId": "828b8e2c-345a-4642-debd-8c6d3afa461e"
      },
      "execution_count": 41,
      "outputs": [
        {
          "output_type": "stream",
          "name": "stdout",
          "text": [
            "[ 3  8 13 18]\n"
          ]
        }
      ]
    },
    {
      "cell_type": "code",
      "source": [
        "x = X[:, 2:3]\n",
        "print(x)"
      ],
      "metadata": {
        "colab": {
          "base_uri": "https://localhost:8080/"
        },
        "id": "Wa1qEd_obBTf",
        "outputId": "4cf04bd5-9ee0-4013-870c-273bda996ac3"
      },
      "execution_count": 42,
      "outputs": [
        {
          "output_type": "stream",
          "name": "stdout",
          "text": [
            "[[ 3]\n",
            " [ 8]\n",
            " [13]\n",
            " [18]]\n"
          ]
        }
      ]
    },
    {
      "cell_type": "code",
      "source": [
        "print(X)"
      ],
      "metadata": {
        "colab": {
          "base_uri": "https://localhost:8080/"
        },
        "id": "M-sEerN_bImM",
        "outputId": "1445a247-9a6c-42d8-a471-98e8f735adaf"
      },
      "execution_count": 43,
      "outputs": [
        {
          "output_type": "stream",
          "name": "stdout",
          "text": [
            "[[ 1  2  3  4  5]\n",
            " [ 6  7  8  9 10]\n",
            " [11 12 13 14 15]\n",
            " [16 17 18 19 20]]\n"
          ]
        }
      ]
    },
    {
      "cell_type": "code",
      "source": [
        "z = X[1:, 2:]\n",
        "print(z)"
      ],
      "metadata": {
        "colab": {
          "base_uri": "https://localhost:8080/"
        },
        "id": "JPimknpjbb2q",
        "outputId": "6d1f3c99-533e-4bdb-c24e-903fbf617aa6"
      },
      "execution_count": 44,
      "outputs": [
        {
          "output_type": "stream",
          "name": "stdout",
          "text": [
            "[[ 8  9 10]\n",
            " [13 14 15]\n",
            " [18 19 20]]\n"
          ]
        }
      ]
    },
    {
      "cell_type": "code",
      "source": [
        "z[2, 2] = 555\n",
        "print(z)"
      ],
      "metadata": {
        "colab": {
          "base_uri": "https://localhost:8080/"
        },
        "id": "_0w1ZGgKbg-9",
        "outputId": "7ee11abb-b142-4ef9-e25b-cde9c1e6f71c"
      },
      "execution_count": 45,
      "outputs": [
        {
          "output_type": "stream",
          "name": "stdout",
          "text": [
            "[[  8   9  10]\n",
            " [ 13  14  15]\n",
            " [ 18  19 555]]\n"
          ]
        }
      ]
    },
    {
      "cell_type": "code",
      "source": [
        "#If change in subset, it will change in the entire array\n",
        "print(X)"
      ],
      "metadata": {
        "colab": {
          "base_uri": "https://localhost:8080/"
        },
        "id": "ugBUx3nkbrRh",
        "outputId": "05d7b5dd-28cc-479b-c665-ac777577eb5f"
      },
      "execution_count": 46,
      "outputs": [
        {
          "output_type": "stream",
          "name": "stdout",
          "text": [
            "[[  1   2   3   4   5]\n",
            " [  6   7   8   9  10]\n",
            " [ 11  12  13  14  15]\n",
            " [ 16  17  18  19 555]]\n"
          ]
        }
      ]
    },
    {
      "cell_type": "code",
      "source": [
        "X = np.arange(20).reshape(4, 5)\n",
        "print(X)"
      ],
      "metadata": {
        "colab": {
          "base_uri": "https://localhost:8080/"
        },
        "id": "fdC8GElSbuJo",
        "outputId": "2fd2280f-78bd-42f6-83db-bc1731ed7384"
      },
      "execution_count": 47,
      "outputs": [
        {
          "output_type": "stream",
          "name": "stdout",
          "text": [
            "[[ 0  1  2  3  4]\n",
            " [ 5  6  7  8  9]\n",
            " [10 11 12 13 14]\n",
            " [15 16 17 18 19]]\n"
          ]
        }
      ]
    },
    {
      "cell_type": "code",
      "source": [
        "#Copy helps in reserving the original data by creating a new nparray\n",
        "#completely independent from the original\n",
        "#copy as function\n",
        "x = np.copy(X[1:, 2:])\n",
        "print(x)"
      ],
      "metadata": {
        "colab": {
          "base_uri": "https://localhost:8080/"
        },
        "id": "O497weiucBUZ",
        "outputId": "6b43fd32-583a-48bb-caef-85b2e69ecb27"
      },
      "execution_count": 48,
      "outputs": [
        {
          "output_type": "stream",
          "name": "stdout",
          "text": [
            "[[ 7  8  9]\n",
            " [12 13 14]\n",
            " [17 18 19]]\n"
          ]
        }
      ]
    },
    {
      "cell_type": "code",
      "source": [
        "#copy as method\n",
        "x = X[1:, 2:].copy()\n",
        "print(x)"
      ],
      "metadata": {
        "colab": {
          "base_uri": "https://localhost:8080/"
        },
        "id": "DsaVINH8cHbI",
        "outputId": "d847fdbd-9e78-47eb-c3f6-9d9c3e4fcd8b"
      },
      "execution_count": 50,
      "outputs": [
        {
          "output_type": "stream",
          "name": "stdout",
          "text": [
            "[[ 7  8  9]\n",
            " [12 13 14]\n",
            " [17 18 19]]\n"
          ]
        }
      ]
    },
    {
      "cell_type": "code",
      "source": [
        "x[2, 2] = 555\n",
        "print(x)"
      ],
      "metadata": {
        "colab": {
          "base_uri": "https://localhost:8080/"
        },
        "id": "fRJikE2ScRV0",
        "outputId": "1e7ecb6e-cb5c-4481-e0c9-4acc602b7719"
      },
      "execution_count": 51,
      "outputs": [
        {
          "output_type": "stream",
          "name": "stdout",
          "text": [
            "[[  7   8   9]\n",
            " [ 12  13  14]\n",
            " [ 17  18 555]]\n"
          ]
        }
      ]
    },
    {
      "cell_type": "code",
      "source": [
        "print(X)"
      ],
      "metadata": {
        "colab": {
          "base_uri": "https://localhost:8080/"
        },
        "id": "Oi6aCH17dGSU",
        "outputId": "bc590e93-57fd-47d1-d407-8922b19c4585"
      },
      "execution_count": 53,
      "outputs": [
        {
          "output_type": "stream",
          "name": "stdout",
          "text": [
            "[[ 0  1  2  3  4]\n",
            " [ 5  6  7  8  9]\n",
            " [10 11 12 13 14]\n",
            " [15 16 17 18 19]]\n"
          ]
        }
      ]
    },
    {
      "cell_type": "code",
      "source": [
        "#using an array as indices to do something\n",
        "indices = np.array([1, 3])\n",
        "print(indices)"
      ],
      "metadata": {
        "colab": {
          "base_uri": "https://localhost:8080/"
        },
        "id": "I7lRHxtsdHZ5",
        "outputId": "587c3821-5f71-4d91-a94f-64ea1d39380e"
      },
      "execution_count": 54,
      "outputs": [
        {
          "output_type": "stream",
          "name": "stdout",
          "text": [
            "[1 3]\n"
          ]
        }
      ]
    },
    {
      "cell_type": "code",
      "source": [
        "y = X[indices, :]\n",
        "print(y)"
      ],
      "metadata": {
        "colab": {
          "base_uri": "https://localhost:8080/"
        },
        "id": "A_n7mLfwdw--",
        "outputId": "73bb8df6-68c8-41a2-ee63-422aec88efe8"
      },
      "execution_count": 55,
      "outputs": [
        {
          "output_type": "stream",
          "name": "stdout",
          "text": [
            "[[ 5  6  7  8  9]\n",
            " [15 16 17 18 19]]\n"
          ]
        }
      ]
    },
    {
      "cell_type": "code",
      "source": [
        "z = X[:, indices]\n",
        "print(z)"
      ],
      "metadata": {
        "colab": {
          "base_uri": "https://localhost:8080/"
        },
        "id": "h5H-AIqxd1bB",
        "outputId": "c8563627-05a6-4350-b7de-98701f8e6fa0"
      },
      "execution_count": 56,
      "outputs": [
        {
          "output_type": "stream",
          "name": "stdout",
          "text": [
            "[[ 1  3]\n",
            " [ 6  8]\n",
            " [11 13]\n",
            " [16 18]]\n"
          ]
        }
      ]
    },
    {
      "cell_type": "code",
      "source": [
        "#extracting elements from the diagonal of the array\n",
        "#by default, k=0\n",
        "x = np.diag(X)\n",
        "print(x)"
      ],
      "metadata": {
        "colab": {
          "base_uri": "https://localhost:8080/"
        },
        "id": "5gFSjxXad61h",
        "outputId": "c5e1f1a9-edf5-48f2-f410-048dff85504c"
      },
      "execution_count": 58,
      "outputs": [
        {
          "output_type": "stream",
          "name": "stdout",
          "text": [
            "[ 0  6 12 18]\n"
          ]
        }
      ]
    },
    {
      "cell_type": "code",
      "source": [
        "#printing diagonal above main diagonal by setting k\n",
        "x = np.diag(X, k=1)\n",
        "print(x)"
      ],
      "metadata": {
        "colab": {
          "base_uri": "https://localhost:8080/"
        },
        "id": "GFQVrPZsfUVa",
        "outputId": "257a6129-8623-4246-baed-df961e692382"
      },
      "execution_count": 59,
      "outputs": [
        {
          "output_type": "stream",
          "name": "stdout",
          "text": [
            "[ 1  7 13 19]\n"
          ]
        }
      ]
    },
    {
      "cell_type": "code",
      "source": [
        "#printing diagonal below main diagonal by setting k\n",
        "x = np.diag(X, k=-1)\n",
        "print(x)"
      ],
      "metadata": {
        "colab": {
          "base_uri": "https://localhost:8080/"
        },
        "id": "HrOIV_LKedaJ",
        "outputId": "700a7c6d-ac20-443a-940e-696085131144"
      },
      "execution_count": 60,
      "outputs": [
        {
          "output_type": "stream",
          "name": "stdout",
          "text": [
            "[ 5 11 17]\n"
          ]
        }
      ]
    },
    {
      "cell_type": "code",
      "source": [
        "#getting unique values from the array\n",
        "X = np.array([[1, 2, 3], [5, 2, 8], [1, 2, 3]]) \n",
        "print(X)\n",
        "\n",
        "print('\\n', np.unique(X))"
      ],
      "metadata": {
        "colab": {
          "base_uri": "https://localhost:8080/"
        },
        "id": "5uxQqTO8gUCl",
        "outputId": "8e4493e0-9b7a-4ddc-ab7b-ad7ea43c4739"
      },
      "execution_count": 62,
      "outputs": [
        {
          "output_type": "stream",
          "name": "stdout",
          "text": [
            "[[1 2 3]\n",
            " [5 2 8]\n",
            " [1 2 3]]\n",
            "\n",
            " [1 2 3 5 8]\n"
          ]
        }
      ]
    },
    {
      "cell_type": "code",
      "source": [
        ""
      ],
      "metadata": {
        "id": "mDGKa3zggnkJ"
      },
      "execution_count": 61,
      "outputs": []
    },
    {
      "cell_type": "markdown",
      "source": [
        "#Boolean Indexing, Set Operations, and Sorting"
      ],
      "metadata": {
        "id": "qF67ylW_hfK_"
      }
    },
    {
      "cell_type": "code",
      "source": [
        "import numpy as np"
      ],
      "metadata": {
        "id": "rKyNYVsrhkEr"
      },
      "execution_count": 63,
      "outputs": []
    },
    {
      "cell_type": "code",
      "source": [
        "X = np.arange(25).reshape(5, 5)\n",
        "print(X)"
      ],
      "metadata": {
        "colab": {
          "base_uri": "https://localhost:8080/"
        },
        "id": "g_I9cK4GkB5p",
        "outputId": "309f3e6c-99ae-4ae9-b60a-bb7fd2d49404"
      },
      "execution_count": 65,
      "outputs": [
        {
          "output_type": "stream",
          "name": "stdout",
          "text": [
            "[[ 0  1  2  3  4]\n",
            " [ 5  6  7  8  9]\n",
            " [10 11 12 13 14]\n",
            " [15 16 17 18 19]\n",
            " [20 21 22 23 24]]\n"
          ]
        }
      ]
    },
    {
      "cell_type": "code",
      "source": [
        "#using boolean indexing to get specific values under condition\n",
        "#ex values greater than\n",
        "print(X[X>10])"
      ],
      "metadata": {
        "colab": {
          "base_uri": "https://localhost:8080/"
        },
        "id": "is9cV87ZkNR5",
        "outputId": "19a1a521-4189-4807-fa48-d72dd7e30d32"
      },
      "execution_count": 66,
      "outputs": [
        {
          "output_type": "stream",
          "name": "stdout",
          "text": [
            "[11 12 13 14 15 16 17 18 19 20 21 22 23 24]\n"
          ]
        }
      ]
    },
    {
      "cell_type": "code",
      "source": [
        "#using boolean indexing to change values in array\n",
        "X[(X >10) & (X <17)] = -1\n",
        "print(X)"
      ],
      "metadata": {
        "colab": {
          "base_uri": "https://localhost:8080/"
        },
        "id": "UuybYXcSksvi",
        "outputId": "793d0091-6949-4c75-ceb0-56f53ec4319d"
      },
      "execution_count": 67,
      "outputs": [
        {
          "output_type": "stream",
          "name": "stdout",
          "text": [
            "[[ 0  1  2  3  4]\n",
            " [ 5  6  7  8  9]\n",
            " [10 -1 -1 -1 -1]\n",
            " [-1 -1 17 18 19]\n",
            " [20 21 22 23 24]]\n"
          ]
        }
      ]
    },
    {
      "cell_type": "code",
      "source": [
        "#set operations for comparing np arrays\n",
        "#for intersection, union, difference\n",
        "x = np.array([1, 2, 3, 4, 5])\n",
        "y = np.array([6, 7, 2, 8, 4])\n",
        "\n",
        "print(np.intersect1d(x, y))\n",
        "print(np.setdiff1d(x, y))\n",
        "print(np.union1d(x, y))"
      ],
      "metadata": {
        "colab": {
          "base_uri": "https://localhost:8080/"
        },
        "id": "MzC_u7lXmr3_",
        "outputId": "8a55290f-af8e-4812-a255-532275b8dba1"
      },
      "execution_count": 69,
      "outputs": [
        {
          "output_type": "stream",
          "name": "stdout",
          "text": [
            "[2 4]\n",
            "[1 3 5]\n",
            "[1 2 3 4 5 6 7 8]\n"
          ]
        }
      ]
    },
    {
      "cell_type": "code",
      "source": [
        "#sort np arrays\n",
        "#when sort is used as a function, it is stored in memory out of place\n",
        "#original array doen't change\n",
        "\n",
        "x = np.random.randint(1, 11, size=(10, ))\n",
        "print(np.sort(x))\n",
        "print(x)"
      ],
      "metadata": {
        "colab": {
          "base_uri": "https://localhost:8080/"
        },
        "id": "lVSwotlAnMbQ",
        "outputId": "98ff8a85-ef11-482f-9e45-48da2320e666"
      },
      "execution_count": 75,
      "outputs": [
        {
          "output_type": "stream",
          "name": "stdout",
          "text": [
            "[1 1 2 3 3 5 5 6 7 9]\n",
            "[9 7 3 5 1 2 3 6 5 1]\n"
          ]
        }
      ]
    },
    {
      "cell_type": "code",
      "source": [
        "print(np.sort(np.unique(x)))"
      ],
      "metadata": {
        "colab": {
          "base_uri": "https://localhost:8080/"
        },
        "id": "GnLIvvncoZlc",
        "outputId": "502f38c9-e626-47bb-88f2-4194a65230bd"
      },
      "execution_count": 76,
      "outputs": [
        {
          "output_type": "stream",
          "name": "stdout",
          "text": [
            "[1 2 3 5 6 7 9]\n"
          ]
        }
      ]
    },
    {
      "cell_type": "code",
      "source": [
        "#when sort is used as a method, it is stored in memory in place\n",
        "#original array is changed\n",
        "\n",
        "x.sort()\n",
        "print(x)"
      ],
      "metadata": {
        "colab": {
          "base_uri": "https://localhost:8080/"
        },
        "id": "sR7zlPrhn6sG",
        "outputId": "a0967bc9-4152-4e32-de82-abaa11ba125e"
      },
      "execution_count": 77,
      "outputs": [
        {
          "output_type": "stream",
          "name": "stdout",
          "text": [
            "[1 1 2 3 3 5 5 6 7 9]\n"
          ]
        }
      ]
    },
    {
      "cell_type": "code",
      "source": [
        "#in rank 2 arrays, use axis to determine whether sorting is occured\n",
        "#on rows or columns\n",
        "X = np.random.randint(1, 11, size=(5, 5))\n",
        "print(X)"
      ],
      "metadata": {
        "colab": {
          "base_uri": "https://localhost:8080/"
        },
        "id": "9T0todJXoQY-",
        "outputId": "86a5816e-cbc1-45ba-c722-96965b64ede9"
      },
      "execution_count": 78,
      "outputs": [
        {
          "output_type": "stream",
          "name": "stdout",
          "text": [
            "[[ 3 10  8  2  7]\n",
            " [ 6  9  2  7  3]\n",
            " [ 8  7  3  6  1]\n",
            " [ 9  1  9  3  4]\n",
            " [ 9  2  9  3  1]]\n"
          ]
        }
      ]
    },
    {
      "cell_type": "code",
      "source": [
        "#sort rank 2 on rows\n",
        "print(np.sort(X, axis=0))"
      ],
      "metadata": {
        "colab": {
          "base_uri": "https://localhost:8080/"
        },
        "id": "DlUnylf2o0XS",
        "outputId": "f60ed758-3771-4697-9f18-03fc4d52adc0"
      },
      "execution_count": 79,
      "outputs": [
        {
          "output_type": "stream",
          "name": "stdout",
          "text": [
            "[[ 3  1  2  2  1]\n",
            " [ 6  2  3  3  1]\n",
            " [ 8  7  8  3  3]\n",
            " [ 9  9  9  6  4]\n",
            " [ 9 10  9  7  7]]\n"
          ]
        }
      ]
    },
    {
      "cell_type": "code",
      "source": [
        "#sort rank 2 on columns\n",
        "print(np.sort(X, axis=1))"
      ],
      "metadata": {
        "colab": {
          "base_uri": "https://localhost:8080/"
        },
        "id": "ekyB09Wzo6dL",
        "outputId": "798a9b16-5eeb-4886-bfe4-14e41fafb6d4"
      },
      "execution_count": 80,
      "outputs": [
        {
          "output_type": "stream",
          "name": "stdout",
          "text": [
            "[[ 2  3  7  8 10]\n",
            " [ 2  3  6  7  9]\n",
            " [ 1  3  6  7  8]\n",
            " [ 1  3  4  9  9]\n",
            " [ 1  2  3  9  9]]\n"
          ]
        }
      ]
    },
    {
      "cell_type": "code",
      "source": [
        ""
      ],
      "metadata": {
        "id": "gcOUD6D7o91Q"
      },
      "execution_count": null,
      "outputs": []
    },
    {
      "cell_type": "markdown",
      "source": [
        "##Practice"
      ],
      "metadata": {
        "id": "4wtaPzBosqMI"
      }
    },
    {
      "cell_type": "code",
      "source": [
        "import numpy as np\n",
        "\n",
        "# Create a 5 x 5 ndarray with consecutive integers from 1 to 25 (inclusive).\n",
        "\n",
        "# Afterwards use Boolean indexing to pick out only the odd numbers in the array\n",
        "\n",
        "# Create a 5 x 5 ndarray with consecutive integers from 1 to 25 (inclusive).\n",
        "X = np.arange(1, 26).reshape(5, 5)\n",
        "\n",
        "# Use Boolean indexing to pick out only the odd numbers in the array\n",
        "Y = X[X%2 != 0]\n",
        "\n",
        "print(X)\n",
        "print(Y)"
      ],
      "metadata": {
        "colab": {
          "base_uri": "https://localhost:8080/"
        },
        "id": "eb4rb7MnsuBx",
        "outputId": "33bce48f-c780-44bd-9230-8007fcaa0f4b"
      },
      "execution_count": 82,
      "outputs": [
        {
          "output_type": "stream",
          "name": "stdout",
          "text": [
            "[[ 1  2  3  4  5]\n",
            " [ 6  7  8  9 10]\n",
            " [11 12 13 14 15]\n",
            " [16 17 18 19 20]\n",
            " [21 22 23 24 25]]\n",
            "[ 1  3  5  7  9 11 13 15 17 19 21 23 25]\n"
          ]
        }
      ]
    },
    {
      "cell_type": "code",
      "source": [
        ""
      ],
      "metadata": {
        "id": "L8na6VIcsuv9"
      },
      "execution_count": null,
      "outputs": []
    },
    {
      "cell_type": "markdown",
      "source": [
        "#Arithmetic Operations and Broadcasting"
      ],
      "metadata": {
        "id": "Vs33Ei51uHpH"
      }
    },
    {
      "cell_type": "code",
      "source": [
        "#numpy  allows element-wise operations on ndarrays \n",
        "#as well as matrix operations\n",
        "#This part is for element-wise operations\n",
        "import numpy as np"
      ],
      "metadata": {
        "id": "7aktoVjRuOMH"
      },
      "execution_count": 83,
      "outputs": []
    },
    {
      "cell_type": "code",
      "source": [
        "x = np.array([1, 2, 3, 4])\n",
        "y = np.array([5, 6, 7, 8])\n",
        "print(x)\n",
        "print(y)"
      ],
      "metadata": {
        "colab": {
          "base_uri": "https://localhost:8080/"
        },
        "id": "M4hxyFxQu4rd",
        "outputId": "cbe12776-ffe1-41da-fcff-f28522b2117e"
      },
      "execution_count": 84,
      "outputs": [
        {
          "output_type": "stream",
          "name": "stdout",
          "text": [
            "[1 2 3 4]\n",
            "[5 6 7 8]\n"
          ]
        }
      ]
    },
    {
      "cell_type": "code",
      "source": [
        "#can use arithmetic symbols or functions\n",
        "print (x + y)\n",
        "print(np.add(x, y))\n",
        "print (x - y)\n",
        "print(np.subtract(x, y))\n",
        "print (x * y)\n",
        "print(np.multiply(x, y))\n",
        "print (x / y)\n",
        "print(np.divide(x, y))"
      ],
      "metadata": {
        "colab": {
          "base_uri": "https://localhost:8080/"
        },
        "id": "GYjX2a20vb-F",
        "outputId": "5d1b360c-fe5e-4a1e-d8bc-0f4593eb9c7f"
      },
      "execution_count": 87,
      "outputs": [
        {
          "output_type": "stream",
          "name": "stdout",
          "text": [
            "[ 6  8 10 12]\n",
            "[ 6  8 10 12]\n",
            "[-4 -4 -4 -4]\n",
            "[-4 -4 -4 -4]\n",
            "[ 5 12 21 32]\n",
            "[ 5 12 21 32]\n",
            "[0.2        0.33333333 0.42857143 0.5       ]\n",
            "[0.2        0.33333333 0.42857143 0.5       ]\n"
          ]
        }
      ]
    },
    {
      "cell_type": "code",
      "source": [
        "#broadcasting is a term of handling element-wise arithmetic operations\n",
        "#for different array shapes\n",
        "#arithmatics must occur on arrays of same shape or broadcastable\n",
        "\n",
        "X = np.array([1, 2, 3, 4]).reshape(2, 2)\n",
        "Y = np.array([5, 6, 7, 8]).reshape(2, 2)\n",
        "print(X)\n",
        "print('\\n', Y)"
      ],
      "metadata": {
        "colab": {
          "base_uri": "https://localhost:8080/"
        },
        "id": "BrlJDzMRvfLA",
        "outputId": "afebccb9-8cd1-4bb5-9a75-207700f785cb"
      },
      "execution_count": 89,
      "outputs": [
        {
          "output_type": "stream",
          "name": "stdout",
          "text": [
            "[[1 2]\n",
            " [3 4]]\n",
            "\n",
            " [[5 6]\n",
            " [7 8]]\n"
          ]
        }
      ]
    },
    {
      "cell_type": "code",
      "source": [
        "print (X + Y)\n",
        "print ('\\n', X - Y)\n",
        "print ('\\n', X * Y)\n",
        "print ('\\n', X / Y)"
      ],
      "metadata": {
        "colab": {
          "base_uri": "https://localhost:8080/"
        },
        "id": "mMPjUDE4v21n",
        "outputId": "9c416675-7a3b-41cd-8c28-1f0fad61ef30"
      },
      "execution_count": 91,
      "outputs": [
        {
          "output_type": "stream",
          "name": "stdout",
          "text": [
            "[[ 6  8]\n",
            " [10 12]]\n",
            "\n",
            " [[-4 -4]\n",
            " [-4 -4]]\n",
            "\n",
            " [[ 5 12]\n",
            " [21 32]]\n",
            "\n",
            " [[0.2        0.33333333]\n",
            " [0.42857143 0.5       ]]\n"
          ]
        }
      ]
    },
    {
      "cell_type": "code",
      "source": [
        "print(np.sqrt(x))"
      ],
      "metadata": {
        "colab": {
          "base_uri": "https://localhost:8080/"
        },
        "id": "0kVNfUw2xSLu",
        "outputId": "1bf5df03-4b4f-412f-b69c-c571da17d8e9"
      },
      "execution_count": 92,
      "outputs": [
        {
          "output_type": "stream",
          "name": "stdout",
          "text": [
            "[1.         1.41421356 1.73205081 2.        ]\n"
          ]
        }
      ]
    },
    {
      "cell_type": "code",
      "source": [
        "print(np.exp(x))"
      ],
      "metadata": {
        "colab": {
          "base_uri": "https://localhost:8080/"
        },
        "id": "zgOlrg1AxdVZ",
        "outputId": "75e2976d-dda7-466f-d677-22dd9041c733"
      },
      "execution_count": 93,
      "outputs": [
        {
          "output_type": "stream",
          "name": "stdout",
          "text": [
            "[ 2.71828183  7.3890561  20.08553692 54.59815003]\n"
          ]
        }
      ]
    },
    {
      "cell_type": "code",
      "source": [
        "print(np.power(x, 2))"
      ],
      "metadata": {
        "colab": {
          "base_uri": "https://localhost:8080/"
        },
        "id": "lvg7aeMWxgHa",
        "outputId": "71755867-a5d4-42ce-cada-db0892527a9e"
      },
      "execution_count": 94,
      "outputs": [
        {
          "output_type": "stream",
          "name": "stdout",
          "text": [
            "[ 1  4  9 16]\n"
          ]
        }
      ]
    },
    {
      "cell_type": "code",
      "source": [
        "#np has statistical functions such as mean\n",
        "#mean of all array\n",
        "print('average of all', X.mean())"
      ],
      "metadata": {
        "colab": {
          "base_uri": "https://localhost:8080/"
        },
        "id": "CNdxWbbXxra4",
        "outputId": "2708b70c-fe19-4790-e6ae-42eb576c318e"
      },
      "execution_count": 95,
      "outputs": [
        {
          "output_type": "stream",
          "name": "stdout",
          "text": [
            "average of all 2.5\n"
          ]
        }
      ]
    },
    {
      "cell_type": "code",
      "source": [
        "#mean of rows\n",
        "print('average of rows', X.mean(axis=1))\n",
        "\n",
        "#mean of columns\n",
        "print('average of columns', X.mean(axis=0))"
      ],
      "metadata": {
        "colab": {
          "base_uri": "https://localhost:8080/"
        },
        "id": "Ju9XPDA5yCJx",
        "outputId": "de245f17-e7e0-4b80-f043-c2111b583464"
      },
      "execution_count": 97,
      "outputs": [
        {
          "output_type": "stream",
          "name": "stdout",
          "text": [
            "average of rows [2. 3.]\n",
            "average of columns [1.5 3.5]\n"
          ]
        }
      ]
    },
    {
      "cell_type": "code",
      "source": [
        "#Statistical sum\n",
        "print('sum of all', X.sum())\n",
        "print('sum of columns', X.sum(axis=0))\n",
        "print('sum of rows', X.sum(axis=1))"
      ],
      "metadata": {
        "colab": {
          "base_uri": "https://localhost:8080/"
        },
        "id": "SbVrESZ7yu-j",
        "outputId": "1b6b1490-fed3-4b81-c411-e33ba84d8a7e"
      },
      "execution_count": 98,
      "outputs": [
        {
          "output_type": "stream",
          "name": "stdout",
          "text": [
            "sum of all 10\n",
            "sum of columns [4 6]\n",
            "sum of rows [3 7]\n"
          ]
        }
      ]
    },
    {
      "cell_type": "code",
      "source": [
        "X.std()"
      ],
      "metadata": {
        "colab": {
          "base_uri": "https://localhost:8080/"
        },
        "id": "gxTgDWKbzDv4",
        "outputId": "2092dc77-fadc-410f-c4fe-7fb2d5d61e0d"
      },
      "execution_count": 99,
      "outputs": [
        {
          "output_type": "execute_result",
          "data": {
            "text/plain": [
              "1.118033988749895"
            ]
          },
          "metadata": {},
          "execution_count": 99
        }
      ]
    },
    {
      "cell_type": "code",
      "source": [
        "np.median(X)"
      ],
      "metadata": {
        "colab": {
          "base_uri": "https://localhost:8080/"
        },
        "id": "d-dfx8zDzG7F",
        "outputId": "d36067b6-70c9-4aeb-fec0-f06291c4e074"
      },
      "execution_count": 102,
      "outputs": [
        {
          "output_type": "execute_result",
          "data": {
            "text/plain": [
              "2.5"
            ]
          },
          "metadata": {},
          "execution_count": 102
        }
      ]
    },
    {
      "cell_type": "code",
      "source": [
        "X.max()"
      ],
      "metadata": {
        "colab": {
          "base_uri": "https://localhost:8080/"
        },
        "id": "AJshMSRVzIJ0",
        "outputId": "adea0679-dff8-4aab-e4d0-4e6e540b80e6"
      },
      "execution_count": 103,
      "outputs": [
        {
          "output_type": "execute_result",
          "data": {
            "text/plain": [
              "4"
            ]
          },
          "metadata": {},
          "execution_count": 103
        }
      ]
    },
    {
      "cell_type": "code",
      "source": [
        "X.min()"
      ],
      "metadata": {
        "colab": {
          "base_uri": "https://localhost:8080/"
        },
        "id": "od1pmLRtzMJs",
        "outputId": "0d8510fd-8ad2-4c52-c71f-9edff811b677"
      },
      "execution_count": 104,
      "outputs": [
        {
          "output_type": "execute_result",
          "data": {
            "text/plain": [
              "1"
            ]
          },
          "metadata": {},
          "execution_count": 104
        }
      ]
    },
    {
      "cell_type": "code",
      "source": [
        "#Do arithmatics without loops\n",
        "#it broadcasts the value (3) to have the same shape as the array\n",
        "print(3 + X)\n",
        "print ('\\n', X-3)\n",
        "print ('\\n', X*3)\n",
        "print ('\\n', X/3)"
      ],
      "metadata": {
        "colab": {
          "base_uri": "https://localhost:8080/"
        },
        "id": "6_jLvO6UzNX_",
        "outputId": "7520898a-1203-4e6f-9ffc-97c2d195223a"
      },
      "execution_count": 105,
      "outputs": [
        {
          "output_type": "stream",
          "name": "stdout",
          "text": [
            "[[4 5]\n",
            " [6 7]]\n",
            "\n",
            " [[-2 -1]\n",
            " [ 0  1]]\n",
            "\n",
            " [[ 3  6]\n",
            " [ 9 12]]\n",
            "\n",
            " [[0.33333333 0.66666667]\n",
            " [1.         1.33333333]]\n"
          ]
        }
      ]
    },
    {
      "cell_type": "code",
      "source": [
        "Y = np.arange(9).reshape(3, 3)\n",
        "print (Y)\n",
        "\n",
        "#array x will be broadcasted to be suitable for addition\n",
        "\"\"\"\n",
        "[[0 1 2]\n",
        " [0 1 2]\n",
        " [0 1 2]]\n",
        "\"\"\"\n",
        "x = np.arange(3)\n",
        "print('\\n', x)\n",
        "\n",
        "print('\\n', Y + x)"
      ],
      "metadata": {
        "colab": {
          "base_uri": "https://localhost:8080/"
        },
        "id": "OpLRYuW7zy_L",
        "outputId": "1c8db621-65f1-4e03-c23c-242baef0a9b3"
      },
      "execution_count": 110,
      "outputs": [
        {
          "output_type": "stream",
          "name": "stdout",
          "text": [
            "[[0 1 2]\n",
            " [3 4 5]\n",
            " [6 7 8]]\n",
            "\n",
            " [0 1 2]\n",
            "\n",
            " [[ 0  2  4]\n",
            " [ 3  5  7]\n",
            " [ 6  8 10]]\n"
          ]
        }
      ]
    },
    {
      "cell_type": "code",
      "source": [
        "Y = np.arange(9).reshape(3, 3)\n",
        "print (Y)\n",
        "\n",
        "#array x will be broadcasted to be suitable for addition\n",
        "\"\"\"\n",
        "[[0 0 0]\n",
        " [1 1 1]\n",
        " [2 2 2]]\n",
        "\"\"\"\n",
        "x = np.arange(3).reshape(3,1)\n",
        "print('\\n', x)\n",
        "\n",
        "print('\\n', x + Y)"
      ],
      "metadata": {
        "colab": {
          "base_uri": "https://localhost:8080/"
        },
        "id": "T9zMxP1F0KKO",
        "outputId": "737f40cd-145e-464b-a606-8f306dea6a45"
      },
      "execution_count": 113,
      "outputs": [
        {
          "output_type": "stream",
          "name": "stdout",
          "text": [
            "[[0 1 2]\n",
            " [3 4 5]\n",
            " [6 7 8]]\n",
            "\n",
            " [[0]\n",
            " [1]\n",
            " [2]]\n",
            "\n",
            " [[ 0  1  2]\n",
            " [ 4  5  6]\n",
            " [ 8  9 10]]\n"
          ]
        }
      ]
    },
    {
      "cell_type": "markdown",
      "source": [
        "#Practice"
      ],
      "metadata": {
        "id": "Aj500XjO2Lxw"
      }
    },
    {
      "cell_type": "code",
      "source": [
        "import numpy as np\n",
        "\n",
        "# Use Broadcasting to create a 4 x 4 ndarray that has its first\n",
        "# column full of 1s, its second column full of 2s, its third\n",
        "# column full of 3s, etc.. \n",
        "\n",
        "# Do not change the name of this array. \n",
        "# Please don't print anything from your code! The TEST RUN button below will print your array. \n",
        "\n",
        "X = np.arange(1, 5) * np.ones((4, 4))"
      ],
      "metadata": {
        "colab": {
          "base_uri": "https://localhost:8080/"
        },
        "id": "2vqRjp4o04R9",
        "outputId": "21fd44d6-f222-479e-ad8f-b2f1d3d06b85"
      },
      "execution_count": 117,
      "outputs": [
        {
          "output_type": "stream",
          "name": "stdout",
          "text": [
            "[[1. 2. 3. 4.]\n",
            " [1. 2. 3. 4.]\n",
            " [1. 2. 3. 4.]\n",
            " [1. 2. 3. 4.]]\n"
          ]
        }
      ]
    },
    {
      "cell_type": "code",
      "source": [
        ""
      ],
      "metadata": {
        "id": "ICAF1tua11Qk"
      },
      "execution_count": null,
      "outputs": []
    }
  ]
}